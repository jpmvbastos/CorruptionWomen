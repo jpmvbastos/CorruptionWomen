{
 "cells": [
  {
   "cell_type": "code",
   "execution_count": 4,
   "metadata": {},
   "outputs": [],
   "source": [
    "import pandas as pd \n",
    "import numpy as np"
   ]
  },
  {
   "cell_type": "code",
   "execution_count": 5,
   "metadata": {},
   "outputs": [],
   "source": [
    "file_path = '/Users/jpmvbastos/Library/CloudStorage/OneDrive-TexasTechUniversity/Personal/Projects/Data/Census/CENSO10_BRASIL.csv'\n",
    "\n",
    "# Specify the chunk size (number of rows per chunk)\n",
    "chunk_size = 10000  # Adjust the chunk size as needed\n",
    "\n",
    "# Initialize an empty list to store the chunks\n",
    "chunks = []\n",
    "\n",
    "# Read the CSV file in chunks\n",
    "for chunk in pd.read_csv(file_path, chunksize=chunk_size):\n",
    "    chunks.append(chunk)\n",
    "\n",
    "# Concatenate the chunks into a single DataFrame\n",
    "df = pd.concat(chunks, ignore_index=True)"
   ]
  },
  {
   "cell_type": "code",
   "execution_count": 7,
   "metadata": {},
   "outputs": [
    {
     "data": {
      "text/plain": [
       "Index(['state_id', 'munic_id', 'v0011', 'hh_id', 'v0010', 'region_id', 'v1002',\n",
       "       'v1003', 'metroarea_id', 'urban',\n",
       "       ...\n",
       "       'female_manager_public', 'female_manager_priv', 'total_female',\n",
       "       'total_female_emp', 'manager_t', 'manager_priv_t', 'manager_public_t',\n",
       "       'female_manager_t', 'female_manager_priv_t', 'female_manager_public_t'],\n",
       "      dtype='object', length=197)"
      ]
     },
     "execution_count": 7,
     "metadata": {},
     "output_type": "execute_result"
    }
   ],
   "source": [
    "df.columns"
   ]
  },
  {
   "cell_type": "code",
   "execution_count": 22,
   "metadata": {},
   "outputs": [],
   "source": [
    "sectors = df.columns[165:181]\n",
    "\n",
    "for sector in sectors: \n",
    "    df[f'female_{sector}'] = np.where(df[sector] == 1 & , df"
   ]
  }
 ],
 "metadata": {
  "kernelspec": {
   "display_name": "Python 3",
   "language": "python",
   "name": "python3"
  },
  "language_info": {
   "codemirror_mode": {
    "name": "ipython",
    "version": 3
   },
   "file_extension": ".py",
   "mimetype": "text/x-python",
   "name": "python",
   "nbconvert_exporter": "python",
   "pygments_lexer": "ipython3",
   "version": "3.9.6"
  }
 },
 "nbformat": 4,
 "nbformat_minor": 2
}
